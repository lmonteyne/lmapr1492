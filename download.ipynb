{
 "cells": [
  {
   "cell_type": "code",
   "execution_count": null,
   "id": "4e5f1259",
   "metadata": {},
   "outputs": [],
   "source": [
    "from pymatgen.ext.matproj import MPRester\n",
    "from pymatgen import Structure "
   ]
  },
  {
   "cell_type": "code",
   "execution_count": null,
   "id": "2ceaee66",
   "metadata": {},
   "outputs": [],
   "source": [
    "with MPRester(\"nTQqrVPUX1GFrAOLnWc2\") as m:\n",
    "\n",
    "    # Structure for material id\n",
    "    structure = m.get_structure_by_material_id(\"mp-5967\")\n",
    "    structure.to(filename = \"TiCoSb.cif\")"
   ]
  },
  {
   "cell_type": "code",
   "execution_count": null,
   "id": "cf8e1365",
   "metadata": {},
   "outputs": [],
   "source": []
  }
 ],
 "metadata": {
  "kernelspec": {
   "display_name": "Python 3",
   "language": "python",
   "name": "python3"
  },
  "language_info": {
   "codemirror_mode": {
    "name": "ipython",
    "version": 3
   },
   "file_extension": ".py",
   "mimetype": "text/x-python",
   "name": "python",
   "nbconvert_exporter": "python",
   "pygments_lexer": "ipython3",
   "version": "3.6.8"
  }
 },
 "nbformat": 4,
 "nbformat_minor": 5
}
