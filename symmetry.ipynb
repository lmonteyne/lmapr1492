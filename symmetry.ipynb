{
 "cells": [
  {
   "cell_type": "code",
   "execution_count": 63,
   "id": "94d7841a",
   "metadata": {},
   "outputs": [],
   "source": [
    "from pymatgen import Structure\n",
    "from jupyter_jsmol.pymatgen import quick_view\n",
    "from pymatgen.ext.matproj import MPRester\n",
    "from pymatgen.symmetry.analyzer import SpacegroupAnalyzer\n",
    "from pymatgen.core.operations import SymmOp\n",
    "from pymatgen.symmetry.site_symmetries import *"
   ]
  },
  {
   "cell_type": "code",
   "execution_count": 64,
   "id": "2fcc218f",
   "metadata": {},
   "outputs": [],
   "source": [
    "with MPRester(\"nTQqrVPUX1GFrAOLnWc2\") as m:\n",
    "\n",
    "    # Structure for material id\n",
    "    structure = m.get_structure_by_material_id(\"mp-5967\")\n",
    "    structure.to(filename = \"TiCoSb.cif\")"
   ]
  },
  {
   "cell_type": "code",
   "execution_count": 65,
   "id": "4b3065a0",
   "metadata": {},
   "outputs": [
    {
     "data": {
      "application/vnd.jupyter.widget-view+json": {
       "model_id": "01f5d217a7dd46748a575eb26d2f1fdd",
       "version_major": 2,
       "version_minor": 0
      },
      "text/plain": [
       "JsmolView(layout=Layout(align_self='stretch', height='400px'))"
      ]
     },
     "metadata": {},
     "output_type": "display_data"
    }
   ],
   "source": [
    "view = quick_view(structure)\n",
    "display(view)"
   ]
  },
  {
   "cell_type": "code",
   "execution_count": 66,
   "id": "ffd50ee5",
   "metadata": {},
   "outputs": [
    {
     "name": "stdout",
     "output_type": "stream",
     "text": [
      "Rot:\n",
      "[[1. 0. 0.]\n",
      " [0. 1. 0.]\n",
      " [0. 0. 1.]]\n",
      "tau\n",
      "[0. 0. 0.]\n",
      "Rot:\n",
      "[[ 0.  1.  0.]\n",
      " [ 0.  0.  1.]\n",
      " [-1. -1. -1.]]\n",
      "tau\n",
      "[0. 0. 0.]\n",
      "Rot:\n",
      "[[ 0.  0.  1.]\n",
      " [-1. -1. -1.]\n",
      " [ 1.  0.  0.]]\n",
      "tau\n",
      "[0. 0. 0.]\n",
      "Rot:\n",
      "[[-1. -1. -1.]\n",
      " [ 1.  0.  0.]\n",
      " [ 0.  1.  0.]]\n",
      "tau\n",
      "[0. 0. 0.]\n",
      "Rot:\n",
      "[[-1. -1. -1.]\n",
      " [ 0.  0.  1.]\n",
      " [ 0.  1.  0.]]\n",
      "tau\n",
      "[0. 0. 0.]\n",
      "Rot:\n",
      "[[ 1.  0.  0.]\n",
      " [-1. -1. -1.]\n",
      " [ 0.  0.  1.]]\n",
      "tau\n",
      "[0. 0. 0.]\n",
      "Rot:\n",
      "[[ 0.  1.  0.]\n",
      " [ 1.  0.  0.]\n",
      " [-1. -1. -1.]]\n",
      "tau\n",
      "[0. 0. 0.]\n",
      "Rot:\n",
      "[[0. 0. 1.]\n",
      " [0. 1. 0.]\n",
      " [1. 0. 0.]]\n",
      "tau\n",
      "[0. 0. 0.]\n",
      "Rot:\n",
      "[[-1. -1. -1.]\n",
      " [ 1.  0.  0.]\n",
      " [ 0.  0.  1.]]\n",
      "tau\n",
      "[0. 0. 0.]\n",
      "Rot:\n",
      "[[ 1.  0.  0.]\n",
      " [ 0.  1.  0.]\n",
      " [-1. -1. -1.]]\n",
      "tau\n",
      "[0. 0. 0.]\n",
      "Rot:\n",
      "[[0. 1. 0.]\n",
      " [0. 0. 1.]\n",
      " [1. 0. 0.]]\n",
      "tau\n",
      "[0. 0. 0.]\n",
      "Rot:\n",
      "[[ 0.  0.  1.]\n",
      " [-1. -1. -1.]\n",
      " [ 0.  1.  0.]]\n",
      "tau\n",
      "[0. 0. 0.]\n",
      "Rot:\n",
      "[[ 1.  0.  0.]\n",
      " [-1. -1. -1.]\n",
      " [ 0.  1.  0.]]\n",
      "tau\n",
      "[0. 0. 0.]\n",
      "Rot:\n",
      "[[0. 1. 0.]\n",
      " [1. 0. 0.]\n",
      " [0. 0. 1.]]\n",
      "tau\n",
      "[0. 0. 0.]\n",
      "Rot:\n",
      "[[ 0.  0.  1.]\n",
      " [ 0.  1.  0.]\n",
      " [-1. -1. -1.]]\n",
      "tau\n",
      "[0. 0. 0.]\n",
      "Rot:\n",
      "[[-1. -1. -1.]\n",
      " [ 0.  0.  1.]\n",
      " [ 1.  0.  0.]]\n",
      "tau\n",
      "[0. 0. 0.]\n",
      "Rot:\n",
      "[[ 0.  1.  0.]\n",
      " [-1. -1. -1.]\n",
      " [ 0.  0.  1.]]\n",
      "tau\n",
      "[0. 0. 0.]\n",
      "Rot:\n",
      "[[ 0.  0.  1.]\n",
      " [ 1.  0.  0.]\n",
      " [-1. -1. -1.]]\n",
      "tau\n",
      "[0. 0. 0.]\n",
      "Rot:\n",
      "[[-1. -1. -1.]\n",
      " [ 0.  1.  0.]\n",
      " [ 1.  0.  0.]]\n",
      "tau\n",
      "[0. 0. 0.]\n",
      "Rot:\n",
      "[[1. 0. 0.]\n",
      " [0. 0. 1.]\n",
      " [0. 1. 0.]]\n",
      "tau\n",
      "[0. 0. 0.]\n",
      "Rot:\n",
      "[[0. 0. 1.]\n",
      " [1. 0. 0.]\n",
      " [0. 1. 0.]]\n",
      "tau\n",
      "[0. 0. 0.]\n",
      "Rot:\n",
      "[[-1. -1. -1.]\n",
      " [ 0.  1.  0.]\n",
      " [ 0.  0.  1.]]\n",
      "tau\n",
      "[0. 0. 0.]\n",
      "Rot:\n",
      "[[ 1.  0.  0.]\n",
      " [ 0.  0.  1.]\n",
      " [-1. -1. -1.]]\n",
      "tau\n",
      "[0. 0. 0.]\n",
      "Rot:\n",
      "[[ 0.  1.  0.]\n",
      " [-1. -1. -1.]\n",
      " [ 1.  0.  0.]]\n",
      "tau\n",
      "[0. 0. 0.]\n"
     ]
    }
   ],
   "source": [
    "#Tableau des symétries de la molécule\n",
    "symetries = SpacegroupAnalyzer(structure).get_symmetry_operations()\n",
    "\n",
    "#Symétries analysées\n",
    "sym_1 = symetries[7] #plan miroir (z,y,x)\n",
    "sym_2 = symetries[6] #axe de rotation C2 (y,x,-x-y-z)\n",
    "sym_3 = symetries[3] #centre (0,0,0) + axe 4̅ (-x-y-z,x,y)\n",
    "\n",
    "#Position des atomes choisis\n",
    "Ti = [0,0,0]\n",
    "Co = [0.25,0.25,0.25]\n",
    "Sb = [0,0,0.5]\n",
    "\n",
    "#Position des atomes après symétrie\n",
    "sym_Ti = sym_1.operate(Ti)\n",
    "sym_Co = sym_2.operate(Co)\n",
    "sym_Sb = sym_3.operate(Sb)"
   ]
  },
  {
   "cell_type": "code",
   "execution_count": 67,
   "id": "0d0ff3db",
   "metadata": {},
   "outputs": [
    {
     "name": "stdout",
     "output_type": "stream",
     "text": [
      "Réflexion: \n",
      "\n",
      "L'atome Ti a pour coordonnées initiales: [0, 0, 0]\n",
      "\n",
      "Après l'application d'une réflexion par rapport au plan miroir (z,y,x): \n",
      "\n",
      "[[0. 0. 1.]\n",
      " [0. 1. 0.]\n",
      " [1. 0. 0.]] * [0, 0, 0] + [0. 0. 0.]\n",
      "L'atome Ti occupe alors la position suivante: [0. 0. 0.]\n"
     ]
    },
    {
     "data": {
      "application/vnd.jupyter.widget-view+json": {
       "model_id": "3a1d0092c3da45e28d593f579b81a99f",
       "version_major": 2,
       "version_minor": 0
      },
      "text/plain": [
       "JsmolView(layout=Layout(align_self='stretch', height='400px'))"
      ]
     },
     "metadata": {},
     "output_type": "display_data"
    }
   ],
   "source": [
    "#Ti: \n",
    "print(\"Réflexion: \\n\")\n",
    "print(\"L'atome Ti a pour coordonnées initiales: \" + str(Ti) + \"\\n\")\n",
    "print(\"Après l'application d'une réflexion par rapport au plan miroir (z,y,x): \\n\")\n",
    "print(sym_1.rotation_matrix, \"*\", Ti, '+', sym_1.translation_vector)\n",
    "print(\"L'atome Ti occupe alors la position suivante: \" + str(sym_Ti))\n",
    "v1 = quick_view(structure)\n",
    "display(v1)\n",
    "v1.script(\"draw symop 8 {atomno=1}\")"
   ]
  },
  {
   "cell_type": "code",
   "execution_count": 68,
   "id": "1142db51",
   "metadata": {},
   "outputs": [
    {
     "name": "stdout",
     "output_type": "stream",
     "text": [
      "Roto-inversion d'ordre 2: \n",
      "\n",
      "L'atome Co a pour coordonnées initiales: [0.25, 0.25, 0.25]\n",
      "\n",
      "Après l'application d'une roto-inversion de centre (0,0,0) et d'axe (y,x,-x-y-z): \n",
      "\n",
      "[[ 0.  1.  0.]\n",
      " [ 1.  0.  0.]\n",
      " [-1. -1. -1.]] * [0.25, 0.25, 0.25] + [0. 0. 0.]\n",
      "L'atome Ti occupe alors la position suivante: [ 0.25  0.25 -0.75]\n"
     ]
    },
    {
     "data": {
      "application/vnd.jupyter.widget-view+json": {
       "model_id": "19a929e01f2b4da5a014f60d52c1a478",
       "version_major": 2,
       "version_minor": 0
      },
      "text/plain": [
       "JsmolView(layout=Layout(align_self='stretch', height='400px'))"
      ]
     },
     "metadata": {},
     "output_type": "display_data"
    }
   ],
   "source": [
    "#Co:   \n",
    "print(\"Roto-inversion d'ordre 2: \\n\")\n",
    "print(\"L'atome Co a pour coordonnées initiales: \" + str(Co) + \"\\n\")\n",
    "print(\"Après l'application d'une roto-inversion de centre (0,0,0) et d'axe (y,x,-x-y-z): \\n\")\n",
    "print(sym_2.rotation_matrix, \"*\", Co, '+', sym_2.translation_vector)\n",
    "print(\"L'atome Ti occupe alors la position suivante: \" + str(sym_Co))\n",
    "v1 = quick_view(structure)\n",
    "display(v1)\n",
    "v1.script(\"draw symop 7 {atomno=3}\")"
   ]
  },
  {
   "cell_type": "code",
   "execution_count": 69,
   "id": "1954e8fb",
   "metadata": {},
   "outputs": [
    {
     "name": "stdout",
     "output_type": "stream",
     "text": [
      "Roto-inversion d'ordre 4: \n",
      "\n",
      "L'atome Sb a pour coordonnées initiales: [0, 0, 0.5]\n",
      "\n",
      "Après l'application d'une roto-inversion de centre (0,0,0) et d'axe (-x-y-z,x,y): \n",
      "\n",
      "[[-1. -1. -1.]\n",
      " [ 1.  0.  0.]\n",
      " [ 0.  1.  0.]] * [0, 0, 0.5] + [0. 0. 0.]\n",
      "L'atome Sb occupe alors la position suivante: [-0.5  0.   0. ]\n"
     ]
    },
    {
     "data": {
      "application/vnd.jupyter.widget-view+json": {
       "model_id": "ff585bf76ab74fdc9ba7e07d76b75e34",
       "version_major": 2,
       "version_minor": 0
      },
      "text/plain": [
       "JsmolView(layout=Layout(align_self='stretch', height='400px'))"
      ]
     },
     "metadata": {},
     "output_type": "display_data"
    }
   ],
   "source": [
    "#Sb: \n",
    "print(\"Roto-inversion d'ordre 4: \\n\")\n",
    "print(\"L'atome Sb a pour coordonnées initiales: \" + str(Sb) + \"\\n\")\n",
    "print(\"Après l'application d'une roto-inversion de centre (0,0,0) et d'axe (-x-y-z,x,y): \\n\")\n",
    "print(sym_3.rotation_matrix, \"*\", Sb, '+', sym_3.translation_vector)\n",
    "print(\"L'atome Sb occupe alors la position suivante: \" + str(sym_Sb))\n",
    "v1 = quick_view(structure)\n",
    "display(v1)\n",
    "v1.script(\"draw symop 4 {atomno=7}\")"
   ]
  },
  {
   "cell_type": "code",
   "execution_count": null,
   "id": "597dd669",
   "metadata": {},
   "outputs": [],
   "source": []
  }
 ],
 "metadata": {
  "kernelspec": {
   "display_name": "Python 3",
   "language": "python",
   "name": "python3"
  },
  "language_info": {
   "codemirror_mode": {
    "name": "ipython",
    "version": 3
   },
   "file_extension": ".py",
   "mimetype": "text/x-python",
   "name": "python",
   "nbconvert_exporter": "python",
   "pygments_lexer": "ipython3",
   "version": "3.6.8"
  }
 },
 "nbformat": 4,
 "nbformat_minor": 5
}
