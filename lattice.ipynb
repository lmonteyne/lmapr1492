{
 "cells": [
  {
   "cell_type": "code",
   "execution_count": 15,
   "id": "2c042f48",
   "metadata": {},
   "outputs": [],
   "source": [
    "from pymatgen.ext.matproj import MPRester\n",
    "from pymatgen import Structure \n",
    "from pymatgen.symmetry.analyzer import SpacegroupAnalyzer"
   ]
  },
  {
   "cell_type": "code",
   "execution_count": 16,
   "id": "ea3d625e",
   "metadata": {},
   "outputs": [],
   "source": [
    "with MPRester(\"nTQqrVPUX1GFrAOLnWc2\") as m:\n",
    "\n",
    "    #Définir la structure cristalline de TiCoSb\n",
    "    structure = m.get_structure_by_material_id(\"mp-5967\")\n",
    "    structure.to(filename = \"TiCoSb.cif\")"
   ]
  },
  {
   "cell_type": "code",
   "execution_count": 17,
   "id": "42c02a7e",
   "metadata": {},
   "outputs": [],
   "source": [
    "# Obtenir les vecteurs de base du réseau direct\n",
    "direct_lattice = structure.lattice\n",
    "a1, a2, a3 = direct_lattice.matrix\n",
    "normes_a = direct_lattice.abc\n",
    "angles_a = direct_lattice.angles"
   ]
  },
  {
   "cell_type": "code",
   "execution_count": 18,
   "id": "5ec888b6",
   "metadata": {},
   "outputs": [],
   "source": [
    "# Obtenir les vecteurs de base du réseau réciproque\n",
    "reciprocal_lattice = direct_lattice.reciprocal_lattice\n",
    "b1, b2, b3 = reciprocal_lattice.matrix\n",
    "normes_b = reciprocal_lattice.abc\n",
    "angles_b = reciprocal_lattice.angles"
   ]
  },
  {
   "cell_type": "code",
   "execution_count": 19,
   "id": "973183a0",
   "metadata": {},
   "outputs": [],
   "source": [
    "# Obtenir le type de maille et le système cristallin\n",
    "analyzer = SpacegroupAnalyzer(structure)\n",
    "type_de_maille = analyzer.get_lattice_type()\n",
    "systeme_cristallin = analyzer.get_crystal_system()"
   ]
  },
  {
   "cell_type": "code",
   "execution_count": 20,
   "id": "6e42765a",
   "metadata": {},
   "outputs": [],
   "source": [
    "# Obtenir le groupe ponctuel\n",
    "groupe_ponctuel = analyzer.get_point_group_symbol()"
   ]
  },
  {
   "cell_type": "code",
   "execution_count": 22,
   "id": "22761955",
   "metadata": {},
   "outputs": [
    {
     "name": "stdout",
     "output_type": "stream",
     "text": [
      "Vecteurs de base du réseau direct:\n",
      "a1 = [0.      2.94678 2.94678]\n",
      "a2 = [2.94678 0.      2.94678]\n",
      "a3 = [2.94678 2.94678 0.     ]\n",
      "\n",
      "Normes en Ångström:\n",
      "a1 = 4.167376241329789\n",
      "a2 = 4.167376241329789\n",
      "a3 = 4.167376241329789\n",
      "\n",
      "Angles en °:\n",
      "\n",
      "alpha_1 = 60.00000000000001\n",
      "alpha_2 = 60.00000000000001\n",
      "alpha_3 = 60.00000000000001\n",
      "\n",
      "\n",
      "Vecteurs de base du réseau réciproque:\n",
      "b1 = [-1.06611035  1.06611035  1.06611035]\n",
      "b2 = [ 1.06611035 -1.06611035  1.06611035]\n",
      "b3 = [ 1.06611035  1.06611035 -1.06611035]\n",
      "\n",
      "Normes en Ångström:\n",
      "b1 = 1.8465572905689105\n",
      "b2 = 1.8465572905689105\n",
      "b3 = 1.8465572905689105\n",
      "\n",
      "Angles en °:\n",
      "\n",
      "beta_1 = 109.47122063449069\n",
      "alpha_2 = 109.47122063449069\n",
      "alpha_3 = 109.47122063449069\n",
      "\n",
      "\n",
      "Type de maille: cubic\n",
      "Système cristallin: cubic\n",
      "Groupe ponctuel: -43m\n"
     ]
    }
   ],
   "source": [
    "# Imprimer les résultats\n",
    "print(\"Vecteurs de base du réseau direct:\")\n",
    "print(\"a1 =\", a1)\n",
    "print(\"a2 =\", a2)\n",
    "print(\"a3 =\", a3)\n",
    "print(\"\\nNormes en Ångström:\")\n",
    "print(\"a1 = {}\\na2 = {}\\na3 = {}\\n\".format(normes_a[0], normes_a[1], normes_a[2]))\n",
    "print(\"Angles en °:\\n\")\n",
    "print(\"alpha_1 = {}\\nalpha_2 = {}\\nalpha_3 = {}\\n\".format(angles_a[0], angles_a[1], angles_a[2]))\n",
    "\n",
    "print(\"\\nVecteurs de base du réseau réciproque:\")\n",
    "print(\"b1 =\", b1)\n",
    "print(\"b2 =\", b2)\n",
    "print(\"b3 =\", b3)\n",
    "print(\"\\nNormes en Ångström:\")\n",
    "print(\"b1 = {}\\nb2 = {}\\nb3 = {}\\n\".format(normes_b[0], normes_b[1], normes_b[2]))\n",
    "print(\"Angles en °:\\n\")\n",
    "print(\"beta_1 = {}\\nalpha_2 = {}\\nalpha_3 = {}\\n\".format(angles_b[0], angles_b[1], angles_b[2]))\n",
    "\n",
    "print(\"\\nType de maille:\", type_de_maille)\n",
    "print(\"Système cristallin:\", systeme_cristallin)\n",
    "print(\"Groupe ponctuel:\", groupe_ponctuel)"
   ]
  },
  {
   "cell_type": "code",
   "execution_count": null,
   "id": "5a750c17",
   "metadata": {},
   "outputs": [],
   "source": []
  }
 ],
 "metadata": {
  "kernelspec": {
   "display_name": "Python 3",
   "language": "python",
   "name": "python3"
  },
  "language_info": {
   "codemirror_mode": {
    "name": "ipython",
    "version": 3
   },
   "file_extension": ".py",
   "mimetype": "text/x-python",
   "name": "python",
   "nbconvert_exporter": "python",
   "pygments_lexer": "ipython3",
   "version": "3.6.8"
  }
 },
 "nbformat": 4,
 "nbformat_minor": 5
}
